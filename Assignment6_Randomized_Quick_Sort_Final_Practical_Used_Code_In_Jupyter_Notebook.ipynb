{
 "cells": [
  {
   "cell_type": "code",
   "execution_count": 7,
   "id": "98425e57-3f53-48e0-b5f2-de85c03f0399",
   "metadata": {},
   "outputs": [
    {
     "name": "stdout",
     "output_type": "stream",
     "text": [
      "2 3 5 6 8 9 \n"
     ]
    }
   ],
   "source": [
    "import random\n",
    "\n",
    "# Function to print the array\n",
    "def print_arr(arr):\n",
    "    for i in arr:\n",
    "        print(i, end=\" \")\n",
    "    print()\n",
    "\n",
    "# Function to perform the QuickSort algorithm with randomized pivot\n",
    "def quick_sort(arr, si, ei):\n",
    "    # Base case: if the starting index is greater or equal to the ending index\n",
    "    if si >= ei:\n",
    "        return\n",
    "    \n",
    "    # Partition the array and get the pivot index\n",
    "    p_idx = randomized_partition(arr, si, ei)\n",
    "    \n",
    "    # Recursively sort elements before and after partition\n",
    "    quick_sort(arr, si, p_idx - 1)  # Sort the left half\n",
    "    quick_sort(arr, p_idx + 1, ei)  # Sort the right half\n",
    "\n",
    "# Function to partition the array around a randomly chosen pivot\n",
    "def randomized_partition(arr, si, ei):\n",
    "    # Select a random pivot index between si and ei\n",
    "    pivot_idx = random.randint(si, ei)\n",
    "    \n",
    "    # Swap the pivot with the last element to use it in partitioning\n",
    "    arr[pivot_idx], arr[ei] = arr[ei], arr[pivot_idx]\n",
    "    \n",
    "    # Now call the partition function\n",
    "    return partition(arr, si, ei)\n",
    "\n",
    "# Function to partition the array around the pivot\n",
    "def partition(arr, si, ei):\n",
    "    pivot = arr[ei]  # Now the pivot is at the end\n",
    "    i = si - 1       # Initialize index for elements smaller than pivot\n",
    "    \n",
    "    # Traverse through the array, rearranging elements based on the pivot\n",
    "    for j in range(si, ei):\n",
    "        if arr[j] <= pivot:\n",
    "            i += 1\n",
    "            # Swap arr[i] and arr[j]\n",
    "            temp = arr[i]\n",
    "            arr[i] = arr[j]\n",
    "            arr[j] = temp\n",
    "\n",
    "    # Place the pivot element in its correct position\n",
    "    i += 1\n",
    "    temp = arr[ei]\n",
    "    arr[ei] = arr[i]\n",
    "    arr[i] = temp\n",
    "    \n",
    "    return i  # Return the index of the pivot element\n",
    "\n",
    "# Main function\n",
    "if __name__ == \"__main__\":\n",
    "    arr = [6, 3, 9, 8, 2, 5]  # Initialize array\n",
    "    quick_sort(arr, 0, len(arr) - 1)  # Sort the array\n",
    "    print_arr(arr)  # Print the sorted array\n"
   ]
  },
  {
   "cell_type": "code",
   "execution_count": null,
   "id": "c2b051ed-a4f3-46ed-b12a-24a1dd0116eb",
   "metadata": {},
   "outputs": [],
   "source": []
  }
 ],
 "metadata": {
  "kernelspec": {
   "display_name": "Python 3 (ipykernel)",
   "language": "python",
   "name": "python3"
  },
  "language_info": {
   "codemirror_mode": {
    "name": "ipython",
    "version": 3
   },
   "file_extension": ".py",
   "mimetype": "text/x-python",
   "name": "python",
   "nbconvert_exporter": "python",
   "pygments_lexer": "ipython3",
   "version": "3.12.3"
  }
 },
 "nbformat": 4,
 "nbformat_minor": 5
}
