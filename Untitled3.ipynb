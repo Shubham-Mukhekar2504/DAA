{
 "cells": [
  {
   "cell_type": "code",
   "execution_count": 15,
   "id": "d44a7d87-85fa-4ada-a5c4-43219b524427",
   "metadata": {},
   "outputs": [
    {
     "ename": "TypeError",
     "evalue": "list.append() takes exactly one argument (2 given)",
     "output_type": "error",
     "traceback": [
      "\u001b[1;31m---------------------------------------------------------------------------\u001b[0m",
      "\u001b[1;31mTypeError\u001b[0m                                 Traceback (most recent call last)",
      "Cell \u001b[1;32mIn[15], line 26\u001b[0m\n\u001b[0;32m     23\u001b[0m weight \u001b[38;5;241m=\u001b[39m [\u001b[38;5;241m10\u001b[39m,\u001b[38;5;241m20\u001b[39m,\u001b[38;5;241m30\u001b[39m]\n\u001b[0;32m     24\u001b[0m capacity \u001b[38;5;241m=\u001b[39m \u001b[38;5;241m50\u001b[39m\n\u001b[1;32m---> 26\u001b[0m \u001b[38;5;28mprint\u001b[39m(\u001b[38;5;124m\"\u001b[39m\u001b[38;5;124mFinal Profit is: \u001b[39m\u001b[38;5;124m\"\u001b[39m, fractional_knapsack(profit,weight,capacity))\n",
      "Cell \u001b[1;32mIn[15], line 5\u001b[0m, in \u001b[0;36mfractional_knapsack\u001b[1;34m(profit, weight, capacity)\u001b[0m\n\u001b[0;32m      3\u001b[0m ratio \u001b[38;5;241m=\u001b[39m []\n\u001b[0;32m      4\u001b[0m \u001b[38;5;28;01mfor\u001b[39;00m i \u001b[38;5;129;01min\u001b[39;00m \u001b[38;5;28mrange\u001b[39m(\u001b[38;5;28mlen\u001b[39m(profit)):\n\u001b[1;32m----> 5\u001b[0m     ratio\u001b[38;5;241m.\u001b[39mappend(i,profit[i]\u001b[38;5;241m/\u001b[39mweight[i])\n\u001b[0;32m      7\u001b[0m ratio\u001b[38;5;241m.\u001b[39msort(key\u001b[38;5;241m=\u001b[39m\u001b[38;5;28;01mlambda\u001b[39;00m x:x[\u001b[38;5;241m1\u001b[39m], reverse \u001b[38;5;241m=\u001b[39m \u001b[38;5;28;01mTrue\u001b[39;00m)\n\u001b[0;32m      9\u001b[0m final_profit \u001b[38;5;241m=\u001b[39m \u001b[38;5;241m0\u001b[39m\n",
      "\u001b[1;31mTypeError\u001b[0m: list.append() takes exactly one argument (2 given)"
     ]
    }
   ],
   "source": [
    "def fractional_knapsack(profit, weight, capacity):\n",
    "    \n",
    "    ratio = []\n",
    "    for i in range(len(profit)):\n",
    "        ratio.append(i,profit[i]/weight[i])\n",
    "\n",
    "    ratio.sort(key=lambda x:x[1], reverse = True)\n",
    "\n",
    "    final_profit = 0\n",
    "\n",
    "    for i,r in ratio:\n",
    "            if capacity>=weight[i]:\n",
    "                final_profit += profit[i]\n",
    "                capacity -= weight[i]\n",
    "            else:\n",
    "                final_profit += r * capacity\n",
    "                break\n",
    "\n",
    "    return final_profit\n",
    "\n",
    "if __name__ ==\"__main__\":\n",
    "    profit = [60,100,120]\n",
    "    weight = [10,20,30]\n",
    "    capacity = 50\n",
    "\n",
    "    print(\"Final Profit is: \", fractional_knapsack(profit,weight,capacity))"
   ]
  },
  {
   "cell_type": "code",
   "execution_count": null,
   "id": "b8b1fe41-3f73-41b7-8911-739b3153ea19",
   "metadata": {},
   "outputs": [],
   "source": []
  }
 ],
 "metadata": {
  "kernelspec": {
   "display_name": "Python 3 (ipykernel)",
   "language": "python",
   "name": "python3"
  },
  "language_info": {
   "codemirror_mode": {
    "name": "ipython",
    "version": 3
   },
   "file_extension": ".py",
   "mimetype": "text/x-python",
   "name": "python",
   "nbconvert_exporter": "python",
   "pygments_lexer": "ipython3",
   "version": "3.12.4"
  }
 },
 "nbformat": 4,
 "nbformat_minor": 5
}
