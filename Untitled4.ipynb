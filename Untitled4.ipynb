{
 "cells": [
  {
   "cell_type": "code",
   "execution_count": 3,
   "id": "f2507774-514e-4b51-9b93-d0e23c9d7271",
   "metadata": {},
   "outputs": [
    {
     "name": "stdout",
     "output_type": "stream",
     "text": [
      "0 0 0 0 0 0 0 0 \n",
      "0 0 15 15 15 15 15 15 \n",
      "0 0 15 15 15 15 15 29 \n",
      "0 10 15 25 25 25 25 29 \n",
      "0 10 15 45 55 60 70 70 \n",
      "0 10 15 45 55 60 70 75 \n",
      "\n",
      "Maximum Profit by zero-one knapsack is: 75\n"
     ]
    }
   ],
   "source": [
    "def knapsack_tab(val, wt, W):\n",
    "    n = len(val)\n",
    "\n",
    "    dp = []\n",
    "    for i in range(n+1):\n",
    "        row = [0] * (W+1)\n",
    "        dp.append(row)\n",
    "\n",
    "    for i in range(1, n+1):\n",
    "        for j in range(1, W+1):\n",
    "            v = val[i-1]\n",
    "            w = wt[i-1]\n",
    "            if w <= j:\n",
    "                inc_profit = v + dp[i-1][j-w]\n",
    "                exc_profit = dp[i-1][j]\n",
    "                dp[i][j] = max(inc_profit, exc_profit)\n",
    "            else:\n",
    "                dp[i][j] = dp[i-1][j]\n",
    "\n",
    "    print_dp(dp)\n",
    "    return dp[n][W]\n",
    "\n",
    "def print_dp(dp):\n",
    "    for row in dp:\n",
    "        for value in row:\n",
    "            print(value, end = \" \")\n",
    "        print()\n",
    "    print()\n",
    "\n",
    "if __name__ == \"__main__\":\n",
    "    val = [15,14,10,45,30]\n",
    "    wt = [2,5,1,3,4]\n",
    "    W = 7\n",
    "\n",
    "    print(f\"Maximum Profit by zero-one knapsack is: {knapsack_tab(val, wt, W)}\")\n",
    "                "
   ]
  },
  {
   "cell_type": "code",
   "execution_count": null,
   "id": "1e781e89-9758-4951-9d09-b017356381cd",
   "metadata": {},
   "outputs": [],
   "source": []
  }
 ],
 "metadata": {
  "kernelspec": {
   "display_name": "Python 3 (ipykernel)",
   "language": "python",
   "name": "python3"
  },
  "language_info": {
   "codemirror_mode": {
    "name": "ipython",
    "version": 3
   },
   "file_extension": ".py",
   "mimetype": "text/x-python",
   "name": "python",
   "nbconvert_exporter": "python",
   "pygments_lexer": "ipython3",
   "version": "3.12.4"
  }
 },
 "nbformat": 4,
 "nbformat_minor": 5
}
